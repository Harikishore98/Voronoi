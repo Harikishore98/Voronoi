{
  "nbformat": 4,
  "nbformat_minor": 0,
  "metadata": {
    "colab": {
      "provenance": []
    },
    "kernelspec": {
      "name": "python3",
      "display_name": "Python 3"
    },
    "language_info": {
      "name": "python"
    }
  },
  "cells": [
    {
      "cell_type": "code",
      "execution_count": 26,
      "metadata": {
        "id": "sgVzrN_SJaTE"
      },
      "outputs": [],
      "source": [
        "import pandas as pd\n",
        "import numpy as np\n",
        "import math\n",
        "from PIL import Image, ImageDraw\n",
        "import random"
      ]
    },
    {
      "cell_type": "code",
      "source": [
        "\n",
        "np.random.seed(42)  # Use np.random.seed for reproducibility\n",
        "num_entries = 5\n",
        "\n",
        "data = {\n",
        "    'a': np.random.randint(0, 200, size=num_entries),\n",
        "    'b': np.random.randint(0, 200, size=num_entries),\n",
        "}\n",
        "\n",
        "# Create DataFrame\n",
        "df = pd.DataFrame(data)\n",
        "\n",
        "# Convert DataFrame to a 2D list\n",
        "two_d_list = df.values.tolist()\n",
        "\n",
        "print(\"Original DataFrame:\")\n",
        "print(df)\n",
        "\n",
        "print(\"\\nConverted 2D List:\")\n",
        "print(two_d_list)\n",
        "\n",
        "\n",
        "\n"
      ],
      "metadata": {
        "colab": {
          "base_uri": "https://localhost:8080/"
        },
        "id": "98t_826uSWBL",
        "outputId": "a49cdc46-be3b-4e51-8f70-1f47b6b52fc2"
      },
      "execution_count": 27,
      "outputs": [
        {
          "output_type": "stream",
          "name": "stdout",
          "text": [
            "Original DataFrame:\n",
            "     a    b\n",
            "0  102   71\n",
            "1  179  188\n",
            "2   92   20\n",
            "3   14  102\n",
            "4  106  121\n",
            "\n",
            "Converted 2D List:\n",
            "[[102, 71], [179, 188], [92, 20], [14, 102], [106, 121]]\n"
          ]
        }
      ]
    },
    {
      "cell_type": "code",
      "source": [
        "\n",
        "\n",
        "num_colors = 5\n",
        "\n",
        "# Generate random colors\n",
        "colors = np.random.randint(0, 256, size=(num_colors, 3))\n",
        "\n",
        "dim = 200\n",
        "num_colors = 3\n",
        "points = np.array(two_d_list)\n",
        "metric = 'euclidean'\n",
        "\n",
        "def closest_point_euclidean(point):\n",
        "\tminimum = float('inf')\n",
        "\tclosest_point = None\n",
        "\ti = None\n",
        "\n",
        "\tfor index, p in enumerate(points):\n",
        "\t\tdistance = round(((point[0] - p[0])**2 + (point[1] - p[1])**2)**(1/2))\n",
        "\t\tif distance < minimum:\n",
        "\t\t\tminimum = distance\n",
        "\t\t\tclosest_point = p\n",
        "\t\t\ti = index\n",
        "\n",
        "\treturn i\n",
        "\n",
        "\n",
        "\n",
        "def main():\n",
        "\tplot = np.zeros((dim, dim, 3), 'uint8')\n",
        "\n",
        "\tfor i in range(plot.shape[0]):\n",
        "\t\tfor j in range(plot.shape[1]):\n",
        "\t\t\tclosest_point_index = closest_point_euclidean([i,j])\n",
        "\t\t\tplot[i][j] = colors[closest_point_index%5]\n",
        "\n",
        "\tr = 2\n",
        "\timg = Image.fromarray(plot)\n",
        "\tdraw = ImageDraw.Draw(img)\n",
        "\tfor p in points:\n",
        "\t\tdraw.ellipse([p[1] - r, p[0] - r, p[1] + r, p[0] + r], fill=(255,255,255))\n",
        "\timg.show()\n",
        "\timg.save('myEuclideanPlot.jpeg')\n",
        "\n",
        "if __name__ == \"__main__\":\n",
        "\tmain()\n"
      ],
      "metadata": {
        "id": "DDir_tu5QTAT"
      },
      "execution_count": 28,
      "outputs": []
    },
    {
      "cell_type": "code",
      "source": [],
      "metadata": {
        "id": "chXqiYSeWGj0"
      },
      "execution_count": 28,
      "outputs": []
    }
  ]
}