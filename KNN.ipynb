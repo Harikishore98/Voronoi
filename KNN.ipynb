{
  "nbformat": 4,
  "nbformat_minor": 0,
  "metadata": {
    "colab": {
      "provenance": []
    },
    "kernelspec": {
      "name": "python3",
      "display_name": "Python 3"
    },
    "language_info": {
      "name": "python"
    }
  },
  "cells": [
    {
      "cell_type": "code",
      "execution_count": 1,
      "metadata": {
        "id": "sgVzrN_SJaTE"
      },
      "outputs": [],
      "source": [
        "import pandas as pd\n",
        "import numpy as np\n",
        "import math\n",
        "from PIL import Image, ImageDraw\n",
        "import random"
      ]
    },
    {
      "cell_type": "code",
      "source": [
        "\n",
        "np.random.seed(42)  # Use np.random.seed for reproducibility\n",
        "num_entries = 5\n",
        "\n",
        "data = {\n",
        "    'a': np.random.randint(0, 200, size=num_entries),\n",
        "    'b': np.random.randint(0, 200, size=num_entries),\n",
        "}\n",
        "\n",
        "# Create DataFrame\n",
        "df = pd.DataFrame(data)\n",
        "\n",
        "# Convert DataFrame to a 2D list\n",
        "two_d_list = df.values.tolist()\n",
        "\n",
        "print(\"Original DataFrame:\")\n",
        "print(df)\n",
        "\n",
        "print(\"\\nConverted 2D List:\")\n",
        "print(two_d_list)\n",
        "\n",
        "\n",
        "\n"
      ],
      "metadata": {
        "colab": {
          "base_uri": "https://localhost:8080/"
        },
        "id": "98t_826uSWBL",
        "outputId": "fb53a421-d581-440e-815f-065cc675a208"
      },
      "execution_count": 2,
      "outputs": [
        {
          "output_type": "stream",
          "name": "stdout",
          "text": [
            "Original DataFrame:\n",
            "     a    b\n",
            "0  102   71\n",
            "1  179  188\n",
            "2   92   20\n",
            "3   14  102\n",
            "4  106  121\n",
            "\n",
            "Converted 2D List:\n",
            "[[102, 71], [179, 188], [92, 20], [14, 102], [106, 121]]\n"
          ]
        }
      ]
    },
    {
      "cell_type": "code",
      "source": [
        "import numpy as np\n",
        "from sklearn import neighbors\n",
        "from PIL import Image, ImageDraw\n",
        "\n",
        "\n",
        "colors = np.random.randint(0, 256, size=(5, 3))\n",
        "seeds = np.array(two_d_list)\n",
        "n_neighbors = 1\n",
        "dim = 200\n",
        "\n",
        "def main():\n",
        "\n",
        "\tclf = neighbors.KNeighborsClassifier(n_neighbors, weights='uniform',algorithm='auto')\n",
        "\tclf.fit(seeds, colors)\n",
        "\n",
        "\n",
        "\tplot_colors = np.zeros((dim,dim,3), 'uint8')\n",
        "\tplot_coordinates = np.zeros((dim*dim,2))\n",
        "\n",
        "\t#The first while loop is a transformation of the data into a format that the classifier will accept\n",
        "\t#The second reverts back to an RGB array tha PIL will understand\n",
        "\n",
        "\ti = 0\n",
        "\tj = 0\n",
        "\tcount = 0\n",
        "\twhile i < 200:\n",
        "\t\twhile j < 200:\n",
        "\t\t\tplot_coordinates[count] = [i, j]\n",
        "\t\t\tcount += 1\n",
        "\t\t\tj += 1\n",
        "\t\tj = 0\n",
        "\t\ti += 1\n",
        "\n",
        "\t#Predicted colors for each pixel\n",
        "\ty = clf.predict(plot_coordinates)\n",
        "\n",
        "\ti = 0\n",
        "\tj = 0\n",
        "\tcount = 0\n",
        "\twhile i < 200:\n",
        "\t\twhile j < 200:\n",
        "\t\t\tplot_colors[i][j] = y[count]\n",
        "\t\t\tcount += 1\n",
        "\t\t\tj += 1\n",
        "\t\tj = 0\n",
        "\t\ti += 1\n",
        "\n",
        "\tr = 2\n",
        "\timg = Image.fromarray(plot_colors)\n",
        "\tdraw = ImageDraw.Draw(img)\n",
        "\tfor p in seeds:\n",
        "\t\tdraw.ellipse([p[1] - r, p[0] - r, p[1] + r, p[0] + r], fill=(255,255,255))\n",
        "\timg.show()\n",
        "\timg.save('myPlot_with_nearest_neighbors.jpeg')\n",
        "\n",
        "\n",
        "if __name__ == '__main__':\n",
        "\tmain()\n"
      ],
      "metadata": {
        "id": "8CeCS7ZnVl1C"
      },
      "execution_count": 3,
      "outputs": []
    },
    {
      "cell_type": "code",
      "source": [],
      "metadata": {
        "id": "chXqiYSeWGj0"
      },
      "execution_count": 3,
      "outputs": []
    }
  ]
}